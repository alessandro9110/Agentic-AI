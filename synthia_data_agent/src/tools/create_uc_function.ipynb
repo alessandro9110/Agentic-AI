{
 "cells": [
  {
   "cell_type": "markdown",
   "metadata": {
    "application/vnd.databricks.v1+cell": {
     "cellMetadata": {},
     "inputWidgets": {},
     "nuid": "7e50ee83-b5b9-4d77-b0dc-285fd9c6fe85",
     "showTitle": false,
     "tableResultSettingsMap": {},
     "title": ""
    }
   },
   "source": [
    "### Create a UC Function-Tool\n",
    "This notebook defines Unity Catalog SQL functions (metadata) and a Python UDF for real statistics.\n",
    "\n",
    "## Unity Catalog Functions & UDF (Canonical Order)\n",
    "1. `check_catalog_exist(catalog_name_to_find)` – verify catalog existence\n",
    "2. `check_table_exist(catalog_name_to_find, schema_name_to_find, table_name_to_find)` – verify table existence\n",
    "3. `check_schema_exist(catalog_name_to_find, schema_name_to_find)` – verify schema existence\n",
    "4. `get_table_columns(catalog_name, schema_name, table_name)` – JSON array of column metadata\n",
    "5. `get_column_statistics(catalog_name, schema_name, table_name, column_name)` – Python UDF returning real stats (unique_count, null_count, min, max, mean)\n",
    "6. `get_table_summary(catalog_name, schema_name, table_name)` – lightweight overview (no heavy scans)\n",
    "\n",
    "Notes:\n",
    "- Function 5 is a Python UDF (registered as a SQL callable) providing actual statistics.\n",
    "- Function 4 and 6 return JSON assembled from information_schema; 6 intentionally skips heavy stats.\n",
    "- Use Function 5 per-column when deeper statistics are required.\n"
   ]
  },
  {
   "cell_type": "code",
   "execution_count": 0,
   "metadata": {
    "application/vnd.databricks.v1+cell": {
     "cellMetadata": {
      "byteLimit": 2048000,
      "rowLimit": 10000
     },
     "inputWidgets": {},
     "nuid": "5add4e89-3f97-4d35-837a-160735d3b202",
     "showTitle": false,
     "tableResultSettingsMap": {},
     "title": ""
    },
    "jupyter": {
     "outputs_hidden": true
    }
   },
   "outputs": [],
   "source": [
    "# Install Unity Catalog AI integration packages with the Databricks extra\n",
    "%pip install unitycatalog-ai[databricks]\n",
    "%pip install unitycatalog-langchain[databricks]\n",
    "%pip install -U -qqqq mlflow databricks-openai databricks-agents\n",
    "\n",
    "# Install the Databricks LangChain integration package\n",
    "%pip install databricks-langchain\n",
    "\n",
    "\n",
    "dbutils.library.restartPython()"
   ]
  },
  {
   "cell_type": "code",
   "execution_count": 0,
   "metadata": {
    "application/vnd.databricks.v1+cell": {
     "cellMetadata": {
      "byteLimit": 2048000,
      "rowLimit": 10000
     },
     "inputWidgets": {},
     "nuid": "f6a4e439-0833-4daa-846b-7c0e9b7840f7",
     "showTitle": false,
     "tableResultSettingsMap": {},
     "title": ""
    }
   },
   "outputs": [],
   "source": [
    "import sys\n",
    "path = '/Workspace' + '/'.join(dbutils.notebook.entry_point.getDbutils().notebook().getContext().notebookPath().get().split(\"/\")[0:-2])\n",
    "sys.path.append(path)"
   ]
  },
  {
   "cell_type": "code",
   "execution_count": 0,
   "metadata": {
    "application/vnd.databricks.v1+cell": {
     "cellMetadata": {
      "byteLimit": 2048000,
      "rowLimit": 10000
     },
     "inputWidgets": {},
     "nuid": "17196fba-5256-4079-afa4-b57b38684155",
     "showTitle": false,
     "tableResultSettingsMap": {},
     "title": ""
    }
   },
   "outputs": [],
   "source": [
    "from configs import variables"
   ]
  },
  {
   "cell_type": "code",
   "execution_count": 0,
   "metadata": {
    "application/vnd.databricks.v1+cell": {
     "cellMetadata": {
      "byteLimit": 2048000,
      "rowLimit": 10000
     },
     "inputWidgets": {},
     "nuid": "b91ba442-13d6-47c2-8a27-dde0a1df5c1b",
     "showTitle": false,
     "tableResultSettingsMap": {},
     "title": ""
    }
   },
   "outputs": [],
   "source": [
    "from unitycatalog.ai.core.databricks import DatabricksFunctionClient\n",
    "\n",
    "client = DatabricksFunctionClient()"
   ]
  },
  {
   "cell_type": "code",
   "execution_count": 0,
   "metadata": {
    "application/vnd.databricks.v1+cell": {
     "cellMetadata": {
      "byteLimit": 2048000,
      "implicitDf": true,
      "rowLimit": 10000
     },
     "inputWidgets": {},
     "nuid": "291920ae-2cd2-49b2-88ee-d89e1f09ab46",
     "showTitle": true,
     "tableResultSettingsMap": {},
     "title": "check catalog exists"
    }
   },
   "outputs": [],
   "source": [
    "%sql\n",
    "-- Function 1: Check if a catalog exists in Unity Catalog\n",
    "-- This function queries the system.information_schema.catalogs table to verify\n",
    "-- whether a specific catalog exists in the Databricks workspace\n",
    "\n",
    "CREATE OR REPLACE FUNCTION agentic_ai.synthia_data_agent.check_catalog_exist(catalog_name_to_find STRING COMMENT 'Catalog name to search')\n",
    "RETURNS STRING\n",
    "COMMENT \"This function checks if a catalog exists in the Databricks workspace. Returns 'TRUE' if the catalog exists, 'FALSE' otherwise.\"\n",
    "RETURN\n",
    "SELECT CASE WHEN EXISTS (\n",
    "    SELECT *\n",
    "    FROM system.information_schema.catalogs c\n",
    "    WHERE c.catalog_name = catalog_name_to_find\n",
    ")\n",
    "THEN 'TRUE'\n",
    "ELSE 'FALSE'\n",
    "END"
   ]
  },
  {
   "cell_type": "code",
   "execution_count": 0,
   "metadata": {
    "application/vnd.databricks.v1+cell": {
     "cellMetadata": {
      "byteLimit": 2048000,
      "implicitDf": true,
      "rowLimit": 10000
     },
     "inputWidgets": {},
     "nuid": "c501073a-1036-46c0-9f1f-0b4e546c464e",
     "showTitle": true,
     "tableResultSettingsMap": {},
     "title": "check table exists"
    }
   },
   "outputs": [],
   "source": [
    "%sql\n",
    "-- Function 2: Check if a table exists in Unity Catalog\n",
    "-- This function queries the system.information_schema.tables to verify whether\n",
    "-- a specific table exists within the given catalog and schema combination\n",
    "CREATE OR REPLACE FUNCTION agentic_ai.synthia_data_agent.check_table_exist(\n",
    "  catalog_name_to_find STRING COMMENT 'Catalog name to search',\n",
    "  schema_name_to_find STRING COMMENT 'Schema name to search',\n",
    "  table_name_to_find STRING COMMENT 'Table name to search'\n",
    ")\n",
    "RETURNS STRING\n",
    "COMMENT \"This function checks if a table exists in the Databricks workspace. Returns 'TRUE' if the table exists\"\n",
    "RETURN\n",
    "SELECT CASE WHEN EXISTS (\n",
    "    SELECT *\n",
    "    FROM system.information_schema.tables c\n",
    "    WHERE c.table_catalog = catalog_name_to_find AND c.table_schema = schema_name_to_find AND c.table_name = table_name_to_find\n",
    ")\n",
    "THEN 'TRUE'\n",
    "ELSE 'FALSE'\n",
    "END"
   ]
  },
  {
   "cell_type": "code",
   "execution_count": 0,
   "metadata": {
    "application/vnd.databricks.v1+cell": {
     "cellMetadata": {
      "byteLimit": 2048000,
      "implicitDf": true,
      "rowLimit": 10000
     },
     "inputWidgets": {},
     "nuid": "3746d274-b48b-4eb9-a747-891803cb952a",
     "showTitle": true,
     "tableResultSettingsMap": {},
     "title": "check schema esists"
    }
   },
   "outputs": [],
   "source": [
    "%sql\n",
    "-- Function 3: Check if a schema exists in Unity Catalog\n",
    "CREATE OR REPLACE FUNCTION agentic_ai.synthia_data_agent.check_schema_exist(\n",
    "  catalog_name_to_find STRING COMMENT 'Catalog name to search',\n",
    "  schema_name_to_find STRING COMMENT 'Schema name to search'\n",
    ")\n",
    "RETURNS STRING\n",
    "COMMENT \"This function checks if a schema exists in the Databricks workspace. Returns 'TRUE' if the schema exists\"\n",
    "RETURN\n",
    "SELECT CASE WHEN EXISTS (\n",
    "    SELECT *\n",
    "    FROM system.information_schema.tables c\n",
    "    WHERE c.table_catalog = catalog_name_to_find AND c.table_schema = schema_name_to_find\n",
    ")\n",
    "THEN 'TRUE'\n",
    "ELSE 'FALSE'\n",
    "END"
   ]
  },
  {
   "cell_type": "code",
   "execution_count": 0,
   "metadata": {
    "application/vnd.databricks.v1+cell": {
     "cellMetadata": {
      "byteLimit": 2048000,
      "implicitDf": true,
      "rowLimit": 10000
     },
     "inputWidgets": {},
     "nuid": "223aa0f3-8a4d-4a4f-bdea-d657f2a0c431",
     "showTitle": false,
     "tableResultSettingsMap": {},
     "title": ""
    }
   },
   "outputs": [],
   "source": [
    "%sql\n",
    "-- Function 4: Get table columns metadata as JSON array\n",
    "-- Returns JSON array with objects: column_name, data_type, is_nullable, comment, ordinal_position\n",
    "\n",
    "CREATE OR REPLACE FUNCTION agentic_ai.synthia_data_agent.get_table_columns(\n",
    "  catalog_name STRING COMMENT 'Catalog name where the table is located',\n",
    "  schema_name STRING COMMENT 'Schema name where the table is located',\n",
    "  table_name STRING COMMENT 'Table name to inspect'\n",
    ")\n",
    "RETURNS STRING\n",
    "COMMENT \"Returns JSON array with columns (column_name,data_type,is_nullable,comment,ordinal_position) for the specified table or an error JSON if table not found.\"\n",
    "RETURN\n",
    "SELECT CASE WHEN EXISTS (\n",
    "    SELECT * FROM system.information_schema.tables t\n",
    "    WHERE t.table_catalog = catalog_name\n",
    "      AND t.table_schema = schema_name\n",
    "      AND t.table_name = table_name\n",
    ")\n",
    "THEN (\n",
    "    SELECT CONCAT('[', concat_ws(',', collect_list(\n",
    "        CONCAT('{\"column_name\":\"', c.column_name,\n",
    "               '\",\"data_type\":\"', c.data_type,\n",
    "               '\",\"is_nullable\":\"', c.is_nullable,\n",
    "               '\",\"comment\":\"', COALESCE(c.comment,''),\n",
    "               '\",\"ordinal_position\":', CAST(c.ordinal_position AS STRING), '}')\n",
    "    )), ']')\n",
    "    FROM system.information_schema.columns c\n",
    "    WHERE c.table_catalog = catalog_name\n",
    "      AND c.table_schema = schema_name\n",
    "      AND c.table_name = table_name\n",
    ")\n",
    "ELSE '{\"error\":\"Table not found\"}'\n",
    "END"
   ]
  },
  {
   "cell_type": "code",
   "execution_count": 0,
   "metadata": {
    "application/vnd.databricks.v1+cell": {
     "cellMetadata": {
      "byteLimit": 2048000,
      "implicitDf": true,
      "rowLimit": 10000
     },
     "inputWidgets": {},
     "nuid": "3fe05eb4-0826-4613-9da2-8eb7f13615d9",
     "showTitle": false,
     "tableResultSettingsMap": {},
     "title": ""
    }
   },
   "outputs": [],
   "source": [
    "def get_column_statistics(catalog_name, schema_name, table_name, column_name):\n",
    "    from pyspark.sql.functions import col\n",
    "    import json\n",
    "    \n",
    "    full_table = f\"{catalog_name}.{schema_name}.{table_name}\"\n",
    "    df = spark.read.table(full_table)\n",
    "    if column_name not in df.columns:\n",
    "        return json.dumps({\"error\": f\"Column {column_name} not found\"})\n",
    "    distinct_count = df.select(column_name).distinct().count()\n",
    "    null_count = df.filter(col(column_name).isNull()).count()\n",
    "    try:\n",
    "        numeric = df.select(column_name).summary(\"min\", \"max\").collect()\n",
    "        min_val = numeric[0][1]\n",
    "        max_val = numeric[1][1]\n",
    "    except:\n",
    "        min_val, max_val = None, None\n",
    "    return json.dumps({\n",
    "        \"column\": column_name,\n",
    "        \"distinct_values\": distinct_count,\n",
    "        \"null_count\": null_count,\n",
    "        \"min\": min_val,\n",
    "        \"max\": max_val\n",
    "    })"
   ]
  },
  {
   "cell_type": "code",
   "execution_count": 0,
   "metadata": {
    "application/vnd.databricks.v1+cell": {
     "cellMetadata": {
      "byteLimit": 2048000,
      "implicitDf": true,
      "rowLimit": 10000
     },
     "inputWidgets": {},
     "nuid": "a858d54a-7027-4672-aa47-6a7c65bf0356",
     "showTitle": false,
     "tableResultSettingsMap": {},
     "title": ""
    }
   },
   "outputs": [],
   "source": [
    "%sql\n",
    "    \n",
    "-- Function 6: Get comprehensive table summary from Unity Catalog\n",
    "-- Returns a JSON object summarizing columns (name, type, nullable, comment, placeholder summary)\n",
    "-- NOTE: Heavy statistics are intentionally excluded here to avoid scanning large tables in a scalar function.\n",
    "CREATE OR REPLACE FUNCTION agentic_ai.synthia_data_agent.get_table_summary(\n",
    "  catalog_name STRING COMMENT 'Catalog name where the table is located',\n",
    "  schema_name STRING COMMENT 'Schema name where the table is located',\n",
    "  table_name STRING COMMENT 'Table name to summarize'\n",
    ")\n",
    "RETURNS STRING\n",
    "COMMENT \"Returns JSON summary of all columns (name, data_type, is_nullable, comment, placeholder summary). Heavy stats should be computed via dedicated Python tools/UDFs.\" \n",
    "RETURN\n",
    "SELECT CASE WHEN EXISTS (\n",
    "    SELECT * FROM system.information_schema.tables t\n",
    "    WHERE t.table_catalog = catalog_name AND t.table_schema = schema_name AND t.table_name = table_name\n",
    ")\n",
    "THEN (\n",
    "    SELECT CONCAT('{\"table_name\":\"', table_name,\n",
    "                  '\",\"total_columns\":', CAST(COUNT(*) AS STRING),\n",
    "                  ',\"columns\":[',\n",
    "                  CONCAT_WS(',', collect_list(\n",
    "                      CONCAT('{\"column_name\":\"', c.column_name,\n",
    "                             '\",\"data_type\":\"', c.data_type,\n",
    "                             '\",\"is_nullable\":\"', c.is_nullable,\n",
    "                             '\",\"comment\":\"', COALESCE(c.comment,''),\n",
    "                             '\",\"summary\":\"Detailed statistics require sampling (use get_column_statistics for specifics)\"}')\n",
    "                  )),\n",
    "                  ']}')\n",
    "    FROM system.information_schema.columns c\n",
    "    WHERE c.table_catalog = catalog_name\n",
    "      AND c.table_schema = schema_name\n",
    "      AND c.table_name = table_name\n",
    ")\n",
    "ELSE '{\"error\":\"Table not found\"}'\n",
    "END"
   ]
  },
  {
   "cell_type": "markdown",
   "metadata": {
    "application/vnd.databricks.v1+cell": {
     "cellMetadata": {},
     "inputWidgets": {},
     "nuid": "a2bd6d37-b074-465c-998c-ab79b94ea6fc",
     "showTitle": false,
     "tableResultSettingsMap": {},
     "title": ""
    }
   },
   "source": [
    "### Test Function"
   ]
  },
  {
   "cell_type": "code",
   "execution_count": 0,
   "metadata": {
    "application/vnd.databricks.v1+cell": {
     "cellMetadata": {},
     "inputWidgets": {},
     "nuid": "245b1290-345f-428e-8b1b-cdaf0e559054",
     "showTitle": false,
     "tableResultSettingsMap": {},
     "title": ""
    }
   },
   "outputs": [],
   "source": [
    "# Test the get_table_summary function\n",
    "# This test retrieves a comprehensive summary of the NYC taxi trips table\n",
    "# Expected result: JSON with complete table summary including all columns and their characteristics\n",
    "result_summary = client.execute_function(\n",
    "    function_name=f\"{variables.CATALOG_NAME}.{variables.SCHEMA_NAME}.get_table_summary\",\n",
    "    parameters={\n",
    "        \"catalog_name\": \"samples\",\n",
    "        \"schema_name\": \"nyctaxi\", \n",
    "        \"table_name\": \"trips\"\n",
    "    }\n",
    ")\n",
    "\n",
    "print(\"Table summary result:\")\n",
    "print(result_summary.value)"
   ]
  },
  {
   "cell_type": "markdown",
   "metadata": {
    "application/vnd.databricks.v1+cell": {
     "cellMetadata": {},
     "inputWidgets": {},
     "nuid": "5a646a66-2b71-4a52-8b61-2f1d62af11c2",
     "showTitle": false,
     "tableResultSettingsMap": {},
     "title": ""
    }
   },
   "source": [
    "###  Agent Tool\n",
    "Wrap the function using the UCFunctionToolkit to make it accessible to agent authoring libraries. The toolkit ensures consistency across different gen AI libraries and adds helpful features like auto-tracing for retrievers."
   ]
  },
  {
   "cell_type": "code",
   "execution_count": 0,
   "metadata": {
    "application/vnd.databricks.v1+cell": {
     "cellMetadata": {
      "byteLimit": 2048000,
      "rowLimit": 10000
     },
     "inputWidgets": {},
     "nuid": "d4bc85f5-487e-4478-bde5-a1c62b79d6f7",
     "showTitle": false,
     "tableResultSettingsMap": {},
     "title": ""
    }
   },
   "outputs": [],
   "source": [
    "# Create LangChain Agent with Unity Catalog Function Tools\n",
    "# This section demonstrates how to integrate the UC functions into a conversational agent\n",
    "# The agent can use these functions to inspect Unity Catalog resources and answer questions\n",
    "from langchain.agents import AgentExecutor, create_tool_calling_agent\n",
    "from langchain.prompts import ChatPromptTemplate\n",
    "from databricks_langchain import (\n",
    "  ChatDatabricks,\n",
    "  UCFunctionToolkit,\n",
    ")\n",
    "import mlflow\n",
    "\n",
    "# Initialize the LLM (using Meta Llama 3.3 70B model hosted on Databricks)\n",
    "LLM_ENDPOINT_NAME = \"databricks-meta-llama-3-3-70b-instruct\"\n",
    "llm = ChatDatabricks(endpoint=LLM_ENDPOINT_NAME, temperature=0.1)\n",
    "\n",
    "# Create UC Function Toolkit with all our Unity Catalog functions\n",
    "# This toolkit wraps our SQL functions to make them accessible to the LangChain agent\n",
    "toolkit = UCFunctionToolkit(\n",
    "    warehouse_id=None,  # Uses the default warehouse\n",
    "    function_names=[\n",
    "        # Resource validation functions\n",
    "        f\"{variables.CATALOG_NAME}.{variables.SCHEMA_NAME}.check_catalog_exist\",\n",
    "        f\"{variables.CATALOG_NAME}.{variables.SCHEMA_NAME}.check_schema_exist\", \n",
    "        f\"{variables.CATALOG_NAME}.{variables.SCHEMA_NAME}.check_table_exist\",\n",
    "        \n",
    "        # Table metadata and analysis functions\n",
    "        f\"{variables.CATALOG_NAME}.{variables.SCHEMA_NAME}.get_table_columns\",\n",
    "        f\"{variables.CATALOG_NAME}.{variables.SCHEMA_NAME}.get_column_statistics\",\n",
    "        f\"{variables.CATALOG_NAME}.{variables.SCHEMA_NAME}.get_table_summary\"\n",
    "    ]\n",
    ")\n",
    "\n",
    "# Get the tools from the toolkit\n",
    "tools = toolkit.get_tools()\n",
    "\n",
    "# Define the conversational prompt template\n",
    "# The agent will use the available tools to answer user questions about Unity Catalog resources\n",
    "prompt = ChatPromptTemplate.from_messages(\n",
    "  [\n",
    "    (\n",
    "      \"system\",\n",
    "      \"You are a helpful assistant specialized in Unity Catalog data inspection. Use the available tools to provide comprehensive information about catalogs, schemas, tables, and column statistics. Make sure to use tools for additional functionality.\",\n",
    "    ),\n",
    "    (\"placeholder\", \"{chat_history}\"),\n",
    "    (\"human\", \"{input}\"),\n",
    "    (\"placeholder\", \"{agent_scratchpad}\"),\n",
    "  ]\n",
    ")\n",
    "\n",
    "# Enable automatic tracing for monitoring and debugging\n",
    "mlflow.langchain.autolog()\n",
    "\n",
    "# Create the tool-calling agent with LLM, tools, and prompt\n",
    "agent = create_tool_calling_agent(llm, tools, prompt)\n",
    "\n",
    "# Create the agent executor that handles the conversation flow\n",
    "agent_executor = AgentExecutor(agent=agent, tools=tools, verbose=True)\n",
    "\n",
    "# Test the agent with a comprehensive question about table analysis\n",
    "# This example demonstrates how the agent uses multiple functions for complete table inspection\n",
    "agent_executor.invoke({\"input\": \"Can you provide a complete analysis of the table 'trips' in schema 'nyctaxi' and catalog 'samples'? Include column information, statistics, and a summary view.\"})"
   ]
  },
  {
   "cell_type": "code",
   "execution_count": 0,
   "metadata": {
    "application/vnd.databricks.v1+cell": {
     "cellMetadata": {
      "byteLimit": 2048000,
      "rowLimit": 10000
     },
     "inputWidgets": {},
     "nuid": "22503ca4-8bc5-4259-be29-325a8d3accf7",
     "showTitle": false,
     "tableResultSettingsMap": {},
     "title": ""
    }
   },
   "outputs": [],
   "source": []
  }
 ],
 "metadata": {
  "application/vnd.databricks.v1+notebook": {
   "computePreferences": null,
   "dashboards": [],
   "environmentMetadata": {
    "base_environment": "",
    "environment_version": "3"
   },
   "inputWidgetPreferences": null,
   "language": "python",
   "notebookMetadata": {
    "mostRecentlyExecutedCommandWithImplicitDF": {
     "commandId": 6447807798180005,
     "dataframes": [
      "_sqldf"
     ]
    },
    "pythonIndentUnit": 4
   },
   "notebookName": "create_uc_function",
   "widgets": {}
  },
  "language_info": {
   "name": "python"
  }
 },
 "nbformat": 4,
 "nbformat_minor": 0
}
